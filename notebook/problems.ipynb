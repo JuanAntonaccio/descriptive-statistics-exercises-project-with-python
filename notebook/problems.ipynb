{
    "cells": [
        {
            "cell_type": "markdown",
            "id": "ac622319",
            "metadata": {},
            "source": [
                "# Descriptive Statistics Problems"
            ]
        },
        {
            "cell_type": "markdown",
            "id": "aa8993e4",
            "metadata": {},
            "source": [
                "### Exercise 1"
            ]
        },
        {
            "cell_type": "markdown",
            "id": "5e0ab0d5",
            "metadata": {},
            "source": [
                "As right now, you are familliar with numpy, we are going to use numpy to get some data statistics.\n",
                "\n",
                "First, lets create an array of 20 elements distributed normally (Gaussian):\n",
                "\n",
                "Use the np.random.normal function to create some data, using 0,1,20 as parameters because we want a one dimentional array of 20 numbers distributed normally (Gaussian)"
            ]
        },
        {
            "cell_type": "code",
            "execution_count": 1,
            "id": "34720ab6",
            "metadata": {},
            "outputs": [
                {
                    "name": "stdout",
                    "output_type": "stream",
                    "text": [
                        "[-0.01164882 -0.35696508 -0.25295913  0.15344547  0.25380481 -0.4033193\n",
                        "  1.22635733  0.22684721 -2.16794433 -0.17888179 -0.77645367 -0.0427187\n",
                        "  0.15768638  1.04483411 -0.38306164  0.68322599  1.07396005 -0.97622079\n",
                        "  0.87400344  0.93801548]\n"
                    ]
                }
            ],
            "source": [
                "#import libraries\n",
                "import numpy as np\n",
                "\n",
                "\n",
                "# Set seed in order to get similar results\n",
                "np.random.seed(362)\n",
                "\n",
                "# create the data\n",
                "vector = np.random.normal(0,1,20)\n",
                "\n",
                "\n",
                "\n",
                "#print results\n",
                "print(vector)"
            ]
        },
        {
            "cell_type": "code",
            "execution_count": 2,
            "id": "49c55822",
            "metadata": {},
            "outputs": [
                {
                    "data": {
                        "text/plain": [
                            "0.05410035056807947"
                        ]
                    },
                    "execution_count": 2,
                    "metadata": {},
                    "output_type": "execute_result"
                }
            ],
            "source": [
                "#Use numpy to get the mean of your data\n",
                "\n",
                "np.mean(vector)"
            ]
        },
        {
            "cell_type": "code",
            "execution_count": 3,
            "id": "03529459",
            "metadata": {},
            "outputs": [
                {
                    "name": "stdout",
                    "output_type": "stream",
                    "text": [
                        "0.6377983983048098\n"
                    ]
                }
            ],
            "source": [
                "#get the variance of your data\n",
                "varianza = vector.var()\n",
                "print(varianza)"
            ]
        },
        {
            "cell_type": "code",
            "execution_count": 4,
            "id": "e53f30c5",
            "metadata": {},
            "outputs": [
                {
                    "name": "stdout",
                    "output_type": "stream",
                    "text": [
                        "0.7986228135389133\n"
                    ]
                }
            ],
            "source": [
                "# Standard deviation\n",
                "des_sta=vector.std()\n",
                "print(des_sta)"
            ]
        },
        {
            "cell_type": "code",
            "execution_count": 7,
            "id": "9bce852f",
            "metadata": {},
            "outputs": [
                {
                    "name": "stdout",
                    "output_type": "stream",
                    "text": [
                        "El modo es ModeResult(mode=array([-2.16794433]), count=array([1]))\n",
                        "La moda o modo es : ModeResult(mode=array([3]), count=array([4]))\n"
                    ]
                }
            ],
            "source": [
                "#import libraries and print the mode\n",
                "from scipy import stats\n",
                "\n",
                "# Mode for continuous array\n",
                "print(\"El modo es\",stats.mode(vector))\n",
                "# Ejemplo de moda si tenemos un vector de valores discretos\n",
                "vector_continuo = np.array([1,2,3,5,4,3,3,3,2,1])\n",
                "print(\"La moda o modo es :\",stats.mode(vector_continuo))"
            ]
        },
        {
            "cell_type": "code",
            "execution_count": 8,
            "id": "c682cb6e",
            "metadata": {},
            "outputs": [
                {
                    "name": "stdout",
                    "output_type": "stream",
                    "text": [
                        "La mediana es  0.07089832554260127\n"
                    ]
                }
            ],
            "source": [
                "# Median\n",
                "# Para hallar la mediana aplicamos la siguiente funcion\n",
                "\n",
                "print(\"La mediana es \",np.median(vector))"
            ]
        },
        {
            "cell_type": "code",
            "execution_count": 9,
            "id": "39c3fabd",
            "metadata": {},
            "outputs": [
                {
                    "name": "stdout",
                    "output_type": "stream",
                    "text": [
                        "Min: -2.167944331582699\n",
                        "Q1: -0.36348921601399825\n",
                        "Q2: 0.07089832554260127\n",
                        "Q3: 0.7309203515031545\n",
                        "Max: 1.2263573250145885\n"
                    ]
                }
            ],
            "source": [
                "# Print the Quantiles\n",
                "print(\"Min:\",np.quantile(vector,0))\n",
                "print(\"Q1:\",np.quantile(vector,0.25))\n",
                "print(\"Q2:\",np.quantile(vector,0.5))\n",
                "print(\"Q3:\",np.quantile(vector,0.75))\n",
                "print(\"Max:\",np.quantile(vector,1))\n",
                "\n",
                "\n",
                "# This match with np.median, why?\n",
                "# Q2 = mediana, porque se referien a lo mismo, a lo que esta en la mitad (50%)\n"
            ]
        },
        {
            "cell_type": "markdown",
            "id": "46c70c3d",
            "metadata": {},
            "source": [
                "### Exercise 2\n",
                "\n",
                "Write a Python program to calculate the standard deviation of the following data:\n",
                "```py\n",
                "data = [4, 2, 5, 8, 6]\n",
                "```"
            ]
        },
        {
            "cell_type": "code",
            "execution_count": 10,
            "id": "d590308e",
            "metadata": {},
            "outputs": [
                {
                    "name": "stdout",
                    "output_type": "stream",
                    "text": [
                        "Los datos del vector son [4, 2, 5, 8, 6]\n",
                        "La desviacion estandard es 2.23606797749979\n"
                    ]
                }
            ],
            "source": [
                "import math\n",
                "import sys\n",
                "\n",
                "# Define the standard deviation function\n",
                "\n",
                "def sd_calc(data):\n",
                "    #code here\n",
                "    largo = len(data)\n",
                "    \n",
                "    if largo<=1:\n",
                "        return 0.0\n",
                "    \n",
                "    mean = avg_calc(data)\n",
                "    suma = 0\n",
                "    # calculate stan. dev.\n",
                "    for i in data:\n",
                "        suma += (float(i) - mean)**2\n",
                "    resultado = math.sqrt(suma / float(largo-1))\n",
                "    return resultado\n",
                "\n",
                "\n",
                "# Define the average function\n",
                "\n",
                "def avg_calc(ls):\n",
                "    #code here\n",
                "    largo = len(ls)\n",
                "    mean = 0.0\n",
                "    if largo <=1:\n",
                "        return ls[0]\n",
                "\n",
                "    # calculate average\n",
                "    for i in ls:\n",
                "        mean += float(i)\n",
                "    resultado = mean/float(largo)\n",
                "    return resultado\n",
                "\n",
                "data = [4, 2, 5, 8, 6]\n",
                "\n",
                "#print the data\n",
                "print(\"Los datos del vector son\",data)\n",
                "#print the standard deviation of the data\n",
                "print(\"La desviacion estandard es\",sd_calc(data))"
            ]
        },
        {
            "cell_type": "markdown",
            "id": "04b71791",
            "metadata": {},
            "source": [
                "Source:\n",
                "\n",
                "https://www.w3resource.com/"
            ]
        }
    ],
    "metadata": {
        "kernelspec": {
            "display_name": "Python 3.8.13 64-bit ('3.8.13')",
            "language": "python",
            "name": "python3"
        },
        "language_info": {
            "codemirror_mode": {
                "name": "ipython",
                "version": 3
            },
            "file_extension": ".py",
            "mimetype": "text/x-python",
            "name": "python",
            "nbconvert_exporter": "python",
            "pygments_lexer": "ipython3",
            "version": "3.8.13"
        },
        "vscode": {
            "interpreter": {
                "hash": "110cc1dee26208153f2972f08a2ad52b6a56238dc66d48e87fb757ef2996db56"
            }
        }
    },
    "nbformat": 4,
    "nbformat_minor": 5
}
